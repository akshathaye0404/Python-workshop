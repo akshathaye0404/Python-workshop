{
  "nbformat": 4,
  "nbformat_minor": 0,
  "metadata": {
    "colab": {
      "name": "Day 2/session 1 -examples",
      "provenance": [],
      "authorship_tag": "ABX9TyPD4p9sCGXlWSFAumdZ3XUd",
      "include_colab_link": true
    },
    "kernelspec": {
      "name": "python3",
      "display_name": "Python 3"
    }
  },
  "cells": [
    {
      "cell_type": "markdown",
      "metadata": {
        "id": "view-in-github",
        "colab_type": "text"
      },
      "source": [
        "<a href=\"https://colab.research.google.com/github/akshathaye0404/Python-workshop/blob/master/Day_2_session_1_examples.ipynb\" target=\"_parent\"><img src=\"https://colab.research.google.com/assets/colab-badge.svg\" alt=\"Open In Colab\"/></a>"
      ]
    },
    {
      "cell_type": "markdown",
      "metadata": {
        "id": "XDjjGu7jsVRL",
        "colab_type": "text"
      },
      "source": [
        "#Program to find the largest number in a list"
      ]
    },
    {
      "cell_type": "code",
      "metadata": {
        "id": "A19__oiIsffT",
        "colab_type": "code",
        "colab": {
          "base_uri": "https://localhost:8080/",
          "height": 102
        },
        "outputId": "69c7611c-a3ce-4407-dfaf-f8f16fe55c2d"
      },
      "source": [
        "a=[]\n",
        "n=int(input(\"Enter number of elements:\"))\n",
        "for i in range(1,n+1):\n",
        "    b=int(input(\"Enter element:\"))\n",
        "    a.append(b)\n",
        "a.sort()\n",
        "print(\"Largest element is:\",a[n-1])"
      ],
      "execution_count": 1,
      "outputs": [
        {
          "output_type": "stream",
          "text": [
            "Enter number of elements:3\n",
            "Enter element:5\n",
            "Enter element:6\n",
            "Enter element:7\n",
            "Largest element is: 7\n"
          ],
          "name": "stdout"
        }
      ]
    },
    {
      "cell_type": "markdown",
      "metadata": {
        "id": "kfeYBbr7ss7u",
        "colab_type": "text"
      },
      "source": [
        "#Python Program to put the even and odd elements in a list into two different lists"
      ]
    },
    {
      "cell_type": "code",
      "metadata": {
        "id": "F20HUUVisxqp",
        "colab_type": "code",
        "colab": {
          "base_uri": "https://localhost:8080/",
          "height": 119
        },
        "outputId": "8a99c025-6fb0-40e2-efa2-5869c02b0c28"
      },
      "source": [
        "a=[]\n",
        "n=int(input(\"Enter number of elements:\"))\n",
        "for i in range(1,n+1):\n",
        "    b=int(input(\"Enter element:\"))\n",
        "    a.append(b)\n",
        "even=[]\n",
        "odd=[]\n",
        "for j in a:\n",
        "    if(j%2==0):\n",
        "        even.append(j)\n",
        "    else:\n",
        "        odd.append(j)\n",
        "print(\"The even list\",even)\n",
        "print(\"The odd list\",odd)"
      ],
      "execution_count": 2,
      "outputs": [
        {
          "output_type": "stream",
          "text": [
            "Enter number of elements:3\n",
            "Enter element:6\n",
            "Enter element:15\n",
            "Enter element:8\n",
            "The even list [6, 8]\n",
            "The odd list [15]\n"
          ],
          "name": "stdout"
        }
      ]
    },
    {
      "cell_type": "markdown",
      "metadata": {
        "id": "F9uxB8FFs6VK",
        "colab_type": "text"
      },
      "source": [
        "#Instead of forementioned 14 lines program, the equivalent 4 lines !"
      ]
    },
    {
      "cell_type": "code",
      "metadata": {
        "id": "aJRkxOwUs_QE",
        "colab_type": "code",
        "colab": {
          "base_uri": "https://localhost:8080/",
          "height": 85
        },
        "outputId": "964bafb6-5021-4dec-ad57-c6c3bbf25314"
      },
      "source": [
        "x=0\n",
        "l=[int(input(x)) for _ in range(int(input(\"Enter n\")))]\n",
        "print('even list is',[ i for i in l if i%2])\n",
        "print('odd list is',[i for i in l if not i%2])"
      ],
      "execution_count": 3,
      "outputs": [
        {
          "output_type": "stream",
          "text": [
            "Enter n 1\n",
            "6\n",
            "even list is []\n",
            "odd list is [6]\n"
          ],
          "name": "stdout"
        }
      ]
    },
    {
      "cell_type": "markdown",
      "metadata": {
        "id": "Z-ZAptmQtH6s",
        "colab_type": "text"
      },
      "source": [
        "#Python Program to merge two lists and sort it"
      ]
    },
    {
      "cell_type": "code",
      "metadata": {
        "id": "aw0e9pSztL3h",
        "colab_type": "code",
        "colab": {
          "base_uri": "https://localhost:8080/",
          "height": 136
        },
        "outputId": "c3b45298-86c3-4080-be92-d814755c4879"
      },
      "source": [
        "a=[]\n",
        "c=[]\n",
        "n1=int(input(\"Enter number of elements:\"))\n",
        "for i in range(1,n1+1):\n",
        "    b=int(input(\"Enter element:\"))\n",
        "    a.append(b)\n",
        "n2=int(input(\"Enter number of elements:\"))\n",
        "for i in range(1,n2+1):\n",
        "    d=int(input(\"Enter element:\"))\n",
        "    c.append(d)\n",
        "new=a+c\n",
        "new.sort()\n",
        "print(\"Sorted list is:\",new)"
      ],
      "execution_count": 4,
      "outputs": [
        {
          "output_type": "stream",
          "text": [
            "Enter number of elements:3\n",
            "Enter element:1\n",
            "Enter element:4\n",
            "Enter element:5\n",
            "Enter number of elements:1\n",
            "Enter element:3\n",
            "Sorted list is: [1, 3, 4, 5]\n"
          ],
          "name": "stdout"
        }
      ]
    },
    {
      "cell_type": "markdown",
      "metadata": {
        "id": "mjhDXktUuzuD",
        "colab_type": "text"
      },
      "source": [
        "#Instead of forementioned 13 lines program, the equivalent 5 lines !"
      ]
    },
    {
      "cell_type": "code",
      "metadata": {
        "id": "fihyT_gSvNnm",
        "colab_type": "code",
        "colab": {
          "base_uri": "https://localhost:8080/",
          "height": 136
        },
        "outputId": "90d09949-7863-452f-cce8-89c7ecfe4181"
      },
      "source": [
        "x=0\n",
        "l=[int(input(x)) for _ in range(int(input(\"Enter how many elements\")))]\n",
        "m=[int(input(x)) for _ in range(int(input(\"Enter how many elements \")))]\n",
        "new=l+m\n",
        "new.sort()\n",
        "print(\"Sorted list is:\",new)"
      ],
      "execution_count": 6,
      "outputs": [
        {
          "output_type": "stream",
          "text": [
            "Enter how many elements2\n",
            "1\n",
            "4\n",
            "Enter how many elements 2\n",
            "6\n",
            "3\n",
            "Sorted list is: [1, 3, 4, 6]\n"
          ],
          "name": "stdout"
        }
      ]
    },
    {
      "cell_type": "markdown",
      "metadata": {
        "id": "h17eIMZ3vWe8",
        "colab_type": "text"
      },
      "source": [
        "#Python Program to sort the list according to the second element in the sublist"
      ]
    },
    {
      "cell_type": "code",
      "metadata": {
        "id": "adTLJHRZva6I",
        "colab_type": "code",
        "colab": {
          "base_uri": "https://localhost:8080/",
          "height": 54
        },
        "outputId": "b2916ab5-85f2-45f8-d971-06a41b6eea11"
      },
      "source": [
        "a=[['A',34],['B',21],['C',26],['E',29]]\n",
        "for i in range(0,len(a)):\n",
        "    for j in range(i+1,len(a)):\n",
        "        if(a[i][1]>a[j][1]):\n",
        "            temp=a[j]\n",
        "            a[j]=a[i]\n",
        "            a[i]=temp\n",
        "print(a)"
      ],
      "execution_count": 7,
      "outputs": [
        {
          "output_type": "stream",
          "text": [
            "[['B', 21], ['C', 26], ['E', 29], ['A', 34]]\n"
          ],
          "name": "stdout"
        }
      ]
    },
    {
      "cell_type": "markdown",
      "metadata": {
        "id": "iAx24FuZvetN",
        "colab_type": "text"
      },
      "source": [
        "#Python Program to find the second largest number in a list"
      ]
    },
    {
      "cell_type": "code",
      "metadata": {
        "id": "eld7pqmmvjD5",
        "colab_type": "code",
        "colab": {
          "base_uri": "https://localhost:8080/",
          "height": 102
        },
        "outputId": "50cb9567-a98d-40a4-b8fa-84c002aa5679"
      },
      "source": [
        "a=[]\n",
        "n=int(input(\"Enter number of elements:\"))\n",
        "for i in range(1,n+1):\n",
        "    b=int(input(\"Enter element:\"))\n",
        "    a.append(b)\n",
        "for i in range(0,len(a)):\n",
        "    for j in range(0,len(a)-i-1):\n",
        "        if(a[j]>a[j+1]):\n",
        "            temp=a[j]\n",
        "            a[j]=a[j+1]\n",
        "            a[j+1]=temp \n",
        "print('Second largest number is:',a[n-2])"
      ],
      "execution_count": 8,
      "outputs": [
        {
          "output_type": "stream",
          "text": [
            "Enter number of elements:3\n",
            "Enter element:3\n",
            "Enter element:2\n",
            "Enter element:1\n",
            "Second largest number is: 2\n"
          ],
          "name": "stdout"
        }
      ]
    },
    {
      "cell_type": "markdown",
      "metadata": {
        "id": "VuAbFjYCvps5",
        "colab_type": "text"
      },
      "source": [
        "#Instead of forementioned 8 lines program, the equivalent 3 lines !"
      ]
    },
    {
      "cell_type": "code",
      "metadata": {
        "id": "KEKPeUqQvtJs",
        "colab_type": "code",
        "colab": {
          "base_uri": "https://localhost:8080/",
          "height": 54
        },
        "outputId": "dabde2e6-e21b-4ed9-9b52-d7c249cdf607"
      },
      "source": [
        "a=[['A',34],['B',21],['C',26],['E',29]]\n",
        "a.sort(key = lambda x: x[1]) \n",
        "print(a)"
      ],
      "execution_count": 9,
      "outputs": [
        {
          "output_type": "stream",
          "text": [
            "[['B', 21], ['C', 26], ['E', 29], ['A', 34]]\n"
          ],
          "name": "stdout"
        }
      ]
    },
    {
      "cell_type": "markdown",
      "metadata": {
        "id": "eMn3_2UxvxJD",
        "colab_type": "text"
      },
      "source": [
        "#Instead of forementioned 12 lines program, the equivalent 4 lines !"
      ]
    },
    {
      "cell_type": "code",
      "metadata": {
        "id": "a-gauDyOv0x4",
        "colab_type": "code",
        "colab": {
          "base_uri": "https://localhost:8080/",
          "height": 85
        },
        "outputId": "1057dab2-80b2-4a7b-f511-f16c50be330b"
      },
      "source": [
        "x=0\n",
        "l=[int(input(x)) for _ in range(int(input(\"Enter how many elements\")))]\n",
        "l.sort()\n",
        "print(\"Second largest element is :\",l[-2])"
      ],
      "execution_count": 10,
      "outputs": [
        {
          "output_type": "stream",
          "text": [
            "Enter how many elements2\n",
            "5\n",
            "6\n",
            "Second largest element is : 5\n"
          ],
          "name": "stdout"
        }
      ]
    },
    {
      "cell_type": "markdown",
      "metadata": {
        "id": "qQvVlsyov6sU",
        "colab_type": "text"
      },
      "source": [
        "#Program to create a list of tuples with the first element as the number and the second element as the square of the number"
      ]
    },
    {
      "cell_type": "code",
      "metadata": {
        "id": "6kMrv_L4v-tz",
        "colab_type": "code",
        "colab": {
          "base_uri": "https://localhost:8080/",
          "height": 88
        },
        "outputId": "8979454b-a7ae-49a8-aa42-dc79112228d8"
      },
      "source": [
        "l_range=int(input(\"Enter the lower range:\"))\n",
        "u_range=int(input(\"Enter the upper range:\"))\n",
        "a=[(x,x**2) for x in range(l_range,u_range+1)]\n",
        "print(a)"
      ],
      "execution_count": 11,
      "outputs": [
        {
          "output_type": "stream",
          "text": [
            "Enter the lower range:3\n",
            "Enter the upper range:6\n",
            "[(3, 9), (4, 16), (5, 25), (6, 36)]\n"
          ],
          "name": "stdout"
        }
      ]
    },
    {
      "cell_type": "markdown",
      "metadata": {
        "id": "gkqPDZK2wGMZ",
        "colab_type": "text"
      },
      "source": [
        "#Python Program to generate random numbers from 1 to 20 and append them to the list"
      ]
    },
    {
      "cell_type": "code",
      "metadata": {
        "id": "CHbeA8M6wKAL",
        "colab_type": "code",
        "colab": {
          "base_uri": "https://localhost:8080/",
          "height": 51
        },
        "outputId": "63d4b65f-efa8-4567-a7d3-d93696c06d65"
      },
      "source": [
        "import random\n",
        "a=[]\n",
        "n=int(input(\"Enter number of elements:\"))\n",
        "for j in range(n):\n",
        "    a.append(random.randint(1,20))\n",
        "print('Randomised list is: ',a)"
      ],
      "execution_count": 12,
      "outputs": [
        {
          "output_type": "stream",
          "text": [
            "Enter number of elements:3\n",
            "Randomised list is:  [12, 12, 7]\n"
          ],
          "name": "stdout"
        }
      ]
    },
    {
      "cell_type": "markdown",
      "metadata": {
        "id": "LftOuB6BwPKn",
        "colab_type": "text"
      },
      "source": [
        "#Write python program to have a list of words to sort them from longest to shortest using list of tuples"
      ]
    },
    {
      "cell_type": "code",
      "metadata": {
        "id": "d9OStj0LwS8L",
        "colab_type": "code",
        "colab": {
          "base_uri": "https://localhost:8080/",
          "height": 54
        },
        "outputId": "239e6661-ae5d-4544-ff00-869ccfc89b43"
      },
      "source": [
        "txt = 'but soft what light in yonder window breaks'\n",
        "words = txt.split()\n",
        "t = list()\n",
        "for word in words:\n",
        "   t.append((len(word), word))\n",
        "t.sort(reverse=True)\n",
        " \n",
        "res = list()\n",
        "for length, word in t:\n",
        "    res.append(word)\n",
        " \n",
        "print(res)"
      ],
      "execution_count": 13,
      "outputs": [
        {
          "output_type": "stream",
          "text": [
            "['yonder', 'window', 'breaks', 'light', 'what', 'soft', 'but', 'in']\n"
          ],
          "name": "stdout"
        }
      ]
    },
    {
      "cell_type": "markdown",
      "metadata": {
        "id": "jy5s4N1bwWjs",
        "colab_type": "text"
      },
      "source": [
        "#Python program that assigns variables"
      ]
    },
    {
      "cell_type": "code",
      "metadata": {
        "id": "3f6hZaLYwZ0a",
        "colab_type": "code",
        "colab": {
          "base_uri": "https://localhost:8080/",
          "height": 51
        },
        "outputId": "14ca0af8-4ae4-4d55-b1a5-5629a2f45d69"
      },
      "source": [
        "# Create packed tuple.\n",
        "pair = (\"dog\", \"cat\")\n",
        " \n",
        "# Unpack tuple.\n",
        "(key, value) = pair\n",
        " \n",
        "# Display unpacked variables.\n",
        "print(key)\n",
        "print(value)"
      ],
      "execution_count": 14,
      "outputs": [
        {
          "output_type": "stream",
          "text": [
            "dog\n",
            "cat\n"
          ],
          "name": "stdout"
        }
      ]
    },
    {
      "cell_type": "markdown",
      "metadata": {
        "id": "ZlXWlNDXweWD",
        "colab_type": "text"
      },
      "source": [
        "#Python program that searches tuples"
      ]
    },
    {
      "cell_type": "code",
      "metadata": {
        "id": "ibIv59jvwh96",
        "colab_type": "code",
        "colab": {
          "base_uri": "https://localhost:8080/",
          "height": 51
        },
        "outputId": "8c55d0a4-4db8-4c3b-f99d-dad22b0fcd6a"
      },
      "source": [
        "pair = (\"dog\", \"cat\")\n",
        " \n",
        "# Search for a value.\n",
        "if \"cat\" in pair:\n",
        "    print(\"Cat found\")\n",
        " \n",
        "# Search for a value not present.\n",
        "if \"bird\" not in pair:\n",
        "    print(\"Bird not found\")"
      ],
      "execution_count": 15,
      "outputs": [
        {
          "output_type": "stream",
          "text": [
            "Cat found\n",
            "Bird not found\n"
          ],
          "name": "stdout"
        }
      ]
    }
  ]
}