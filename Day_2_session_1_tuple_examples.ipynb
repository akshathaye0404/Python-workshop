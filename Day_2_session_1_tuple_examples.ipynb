{
  "nbformat": 4,
  "nbformat_minor": 0,
  "metadata": {
    "colab": {
      "name": "Day 2 / session 1 /tuple examples ",
      "provenance": [],
      "authorship_tag": "ABX9TyNHfwM9PhwORr7ZVdylNAuJ",
      "include_colab_link": true
    },
    "kernelspec": {
      "name": "python3",
      "display_name": "Python 3"
    }
  },
  "cells": [
    {
      "cell_type": "markdown",
      "metadata": {
        "id": "view-in-github",
        "colab_type": "text"
      },
      "source": [
        "<a href=\"https://colab.research.google.com/github/akshathaye0404/Python-workshop/blob/master/Day_2_session_1_tuple_examples.ipynb\" target=\"_parent\"><img src=\"https://colab.research.google.com/assets/colab-badge.svg\" alt=\"Open In Colab\"/></a>"
      ]
    },
    {
      "cell_type": "markdown",
      "metadata": {
        "id": "6VgmnRRJzJRh",
        "colab_type": "text"
      },
      "source": [
        "#Python Program to Create a List of Tuples with the First Element as the Number and Second Element as the Square of the Number"
      ]
    },
    {
      "cell_type": "code",
      "metadata": {
        "id": "3YuHt8UFzM8x",
        "colab_type": "code",
        "colab": {
          "base_uri": "https://localhost:8080/",
          "height": 68
        },
        "outputId": "1c7de5d6-b554-499d-ec88-1d37b6cb919c"
      },
      "source": [
        "l_range=int(input(\"Enter the lower range:\"))\n",
        "u_range=int(input(\"Enter the upper range:\"))\n",
        "a=[(x,x**2) for x in range(l_range,u_range+1)]\n",
        "print(a)"
      ],
      "execution_count": 1,
      "outputs": [
        {
          "output_type": "stream",
          "text": [
            "Enter the lower range:2\n",
            "Enter the upper range:4\n",
            "[(2, 4), (3, 9), (4, 16)]\n"
          ],
          "name": "stdout"
        }
      ]
    },
    {
      "cell_type": "markdown",
      "metadata": {
        "id": "dw9TVWT-0KEi",
        "colab_type": "text"
      },
      "source": [
        "#Write python program to have a list of words to sort them from shortest to longest using list of tuples"
      ]
    },
    {
      "cell_type": "code",
      "metadata": {
        "id": "Cnv40qqs0NNV",
        "colab_type": "code",
        "colab": {
          "base_uri": "https://localhost:8080/",
          "height": 71
        },
        "outputId": "971ff5d1-e8c6-431d-f202-64c6f0c25539"
      },
      "source": [
        "l = [(x,x**2) for x in range(int(input('Enter Number : ')))]\n",
        "print(l)"
      ],
      "execution_count": 2,
      "outputs": [
        {
          "output_type": "stream",
          "text": [
            "Enter Number : 12\n",
            "[(0, 0), (1, 1), (2, 4), (3, 9), (4, 16), (5, 25), (6, 36), (7, 49), (8, 64), (9, 81), (10, 100), (11, 121)]\n"
          ],
          "name": "stdout"
        }
      ]
    },
    {
      "cell_type": "markdown",
      "metadata": {
        "id": "JWhUqNxY0Y-2",
        "colab_type": "text"
      },
      "source": [
        "#Write python program to get a list of tuples of Rollno,Name for 5 students through keyboard and sort them Rollno wise ascending order"
      ]
    },
    {
      "cell_type": "code",
      "metadata": {
        "id": "CWr3689L0cdz",
        "colab_type": "code",
        "colab": {
          "base_uri": "https://localhost:8080/",
          "height": 51
        },
        "outputId": "5c0599c2-8d48-4db5-a5b2-01abedca6aaf"
      },
      "source": [
        "l = (x for x in input('Enter Names : ').split()) # tuple\n",
        "l = sorted(l,key = lambda x: len(x))\n",
        "print(l)"
      ],
      "execution_count": 3,
      "outputs": [
        {
          "output_type": "stream",
          "text": [
            "Enter Names : a b c d 3 87\n",
            "['a', 'b', 'c', 'd', '3', '87']\n"
          ],
          "name": "stdout"
        }
      ]
    },
    {
      "cell_type": "markdown",
      "metadata": {
        "id": "sol3vU8M0nxM",
        "colab_type": "text"
      },
      "source": [
        "#Write python program to get a list of tuples of Rollno,Name for 5 students through keyboard and sort them by Name wise ascending order and descending order"
      ]
    },
    {
      "cell_type": "code",
      "metadata": {
        "id": "ZP53X0co0rlW",
        "colab_type": "code",
        "colab": {
          "base_uri": "https://localhost:8080/",
          "height": 207
        },
        "outputId": "08673e1c-2476-4d77-f380-49a736141930"
      },
      "source": [
        "l = []\n",
        " \n",
        "def inp():\n",
        "  name = input('Name : ')\n",
        "  rolno = input(' Rol No : ')\n",
        "  return (name,rolno)  # returns tuples\n",
        " \n",
        "n = int(input('Number of Students : '))\n",
        "for x in range(n):\n",
        "  l.append(inp())\n",
        " \n",
        "print(f'Original : {l}')\n",
        " \n",
        "l.sort(key = lambda x:x[1])\n",
        "print(f'According to Rol No : Ascending :{l}')\n",
        "print(f'According to Rol No : Descending :{l[::-1]}')\n",
        " \n",
        "l.sort(key = lambda x:x[0])\n",
        "print(f'According to Name : Ascending :{l}')\n",
        "print(f'According to Name : Descending :{l[::-1]}')"
      ],
      "execution_count": 4,
      "outputs": [
        {
          "output_type": "stream",
          "text": [
            "Number of Students : 2\n",
            "Name : AAA\n",
            " Rol No : 4al18ec005\n",
            "Name : Rrr\n",
            " Rol No : 4al18ec042\n",
            "Original : [('AAA', '4al18ec005'), ('Rrr', '4al18ec042')]\n",
            "According to Rol No : Ascending :[('AAA', '4al18ec005'), ('Rrr', '4al18ec042')]\n",
            "According to Rol No : Descending :[('Rrr', '4al18ec042'), ('AAA', '4al18ec005')]\n",
            "According to Name : Ascending :[('AAA', '4al18ec005'), ('Rrr', '4al18ec042')]\n",
            "According to Name : Descending :[('Rrr', '4al18ec042'), ('AAA', '4al18ec005')]\n"
          ],
          "name": "stdout"
        }
      ]
    }
  ]
}